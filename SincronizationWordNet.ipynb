{
 "cells": [
  {
   "cell_type": "code",
   "execution_count": 13,
   "id": "047d5c3c",
   "metadata": {},
   "outputs": [
    {
     "data": {
      "text/plain": [
       "['توْقِيت', 'توْقِيت', 'توْقِيت', 'توْقِيت', 'توْقِيت', 'توْقِيت', 'توْقِيت']"
      ]
     },
     "execution_count": 13,
     "metadata": {},
     "output_type": "execute_result"
    }
   ],
   "source": [
    "[str(lemma.name()) for lemma in wn.lemmas('توْقِيت',lang='arb')]"
   ]
  },
  {
   "cell_type": "code",
   "execution_count": 1,
   "id": "7695b9e9",
   "metadata": {},
   "outputs": [
    {
     "name": "stdout",
     "output_type": "stream",
     "text": [
      "['woman', 'adult_female']\n"
     ]
    }
   ],
   "source": [
    "from nltk.corpus import wordnet as wn\n",
    "lista=[]\n",
    "for synset in wn.synsets('man',lang='isl'):\n",
    "    [lista.append(str(lemma.name())) for lemma in synset.lemmas()]\n",
    "print(lista)"
   ]
  },
  {
   "cell_type": "code",
   "execution_count": 7,
   "id": "e9adf999",
   "metadata": {},
   "outputs": [],
   "source": [
    "from csv import writer\n",
    "from csv import reader\n",
    "from nltk.corpus import wordnet as wn\n",
    "# Open the input_file in read mode and output_file in write mode\n",
    "with open('file2tsv.csv', 'r') as read_obj, \\\n",
    "        open('GlosaTSV.csv', 'w', newline='') as write_obj:\n",
    "    # Create a csv.reader object from the input file object\n",
    "    csv_reader = reader(read_obj)\n",
    "    # Create a csv.writer object from the output file object\n",
    "    csv_writer = writer(write_obj)\n",
    "    # Read each row of the input csv file as list\n",
    "    for row in csv_reader:\n",
    "      if row[1][0:3] in sorted(wn.langs()):  \n",
    "        lista=[]\n",
    "        for synset in wn.synsets(row[2],lang=row[1][0:3]):\n",
    "            [lista.append(str(lemma.name())) for lemma in synset.lemmas()]\n",
    "        for item in lista:\n",
    "                    # Append the default text in the row / list\n",
    "                row.append(item)\n",
    "                    # Add the updated row / list to the output file\n",
    "        csv_writer.writerow(row)"
   ]
  },
  {
   "cell_type": "code",
   "execution_count": 3,
   "id": "108a3a18",
   "metadata": {},
   "outputs": [
    {
     "name": "stdout",
     "output_type": "stream",
     "text": [
      "['als', 'arb', 'bul', 'cat', 'cmn', 'dan', 'ell', 'eng', 'eus', 'fin', 'fra', 'glg', 'heb', 'hrv', 'ind', 'isl', 'ita', 'ita_iwn', 'jpn', 'lit', 'nld', 'nno', 'nob', 'pol', 'por', 'ron', 'slk', 'slv', 'spa', 'swe', 'tha', 'zsm']\n"
     ]
    }
   ],
   "source": [
    "from nltk.corpus import wordnet as wn\n",
    "idiomas_registrados=sorted(wn.langs())\n",
    "print (idiomas_registrados)"
   ]
  },
  {
   "cell_type": "code",
   "execution_count": 4,
   "id": "7948884a",
   "metadata": {},
   "outputs": [
    {
     "data": {
      "text/plain": [
       "32"
      ]
     },
     "execution_count": 4,
     "metadata": {},
     "output_type": "execute_result"
    }
   ],
   "source": [
    "len(idiomas_registrados)"
   ]
  },
  {
   "cell_type": "code",
   "execution_count": null,
   "id": "ba305fae",
   "metadata": {},
   "outputs": [],
   "source": []
  }
 ],
 "metadata": {
  "kernelspec": {
   "display_name": "Python 3 (ipykernel)",
   "language": "python",
   "name": "python3"
  },
  "language_info": {
   "codemirror_mode": {
    "name": "ipython",
    "version": 3
   },
   "file_extension": ".py",
   "mimetype": "text/x-python",
   "name": "python",
   "nbconvert_exporter": "python",
   "pygments_lexer": "ipython3",
   "version": "3.10.6"
  }
 },
 "nbformat": 4,
 "nbformat_minor": 5
}
